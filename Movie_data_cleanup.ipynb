{
 "cells": [
  {
   "cell_type": "code",
   "execution_count": null,
   "id": "a7d859c4",
   "metadata": {},
   "outputs": [],
   "source": [
    "#reading the data, isolating the desired profile, removing unwanted columns \n",
    "#converting time to minutes and removing all non movies from the list \n",
    "\n",
    "import pandas as pd\n",
    "\n",
    "#df = pd.read_csv('data/ViewingActivity.csv')\n",
    "#df.head()\n",
    "#df1 = df[df['Profile Name'] == 'Your Name']\n",
    "#df1.head()\n",
    "#data= df1.drop(columns = ['Profile Name', 'Attributes', 'Device Type', 'Bookmark','Latest Bookmark', 'Country'])\n",
    "\n",
    "#remove teasers, trailers and previews\n",
    "\n",
    "#data1 = data[data['Supplemental Video Type'].isna()]\n",
    "#data2 = data1.drop(columns = ['Supplemental Video Type'])\n",
    "\n",
    "#data2.to_csv('data/AmbyViewing.csv', index= False)\n",
    "\n",
    "data2 = pd.read_csv('data/AmbyViewing.csv')\n",
    "\n",
    "#convert the duration time to minutes\n",
    "def duration_to_minutes(duration):\n",
    "    # Split the duration string into hours, minutes, and seconds\n",
    "    parts = duration.split(':')\n",
    "    \n",
    "    # Convert hours, minutes, and seconds to integers\n",
    "    hours = int(parts[0])\n",
    "    minutes = int(parts[1])\n",
    "    seconds = int(parts[2])\n",
    "    \n",
    "    # Convert duration to total minutes\n",
    "    total_minutes = hours * 60 + minutes + seconds / 60\n",
    "    \n",
    "    return total_minutes\n",
    "\n",
    "data2['Duration_minutes'] = data2['Duration'].apply(duration_to_minutes)\n",
    "#data2.head()"
   ]
  },
  {
   "cell_type": "code",
   "execution_count": null,
   "id": "6bd607c2",
   "metadata": {},
   "outputs": [],
   "source": [
    "#remove all parentheses cause they are causing issues \n",
    "\n",
    "data2['Title'] = data2['Title'].str.replace(r'\\(|\\)', '')"
   ]
  },
  {
   "cell_type": "code",
   "execution_count": null,
   "id": "1ea0fac3",
   "metadata": {},
   "outputs": [],
   "source": [
    "#want only movies in the final dataframe, so removing non-movies \n",
    "#using the logic they will have the word 'season'\n",
    "#example Season 1 Episode 1 etc\n",
    "\n",
    "word1 = 'Season'\n",
    "non_movies1 = []\n",
    "for title in data2['Title']:\n",
    "    split_title = title.split()\n",
    "    if word1 in split_title:\n",
    "        non_movies1.append(title)\n",
    "\n",
    "#print(len(non_movies1))\n",
    "\n",
    "#repeat this for the word episode because season didn't catch all the nonmovies       \n",
    "word2 = 'Episode'\n",
    "non_movies2 = []\n",
    "for title1 in data2['Title']:\n",
    "    split_title1 = title1.split()\n",
    "    if word2 in split_title1:\n",
    "        non_movies2.append(title1)        \n",
    "#print(len(non_movies2))\n",
    "#combined list containing both words 'season' and 'episode'\n",
    "comb_nonmov = non_movies1 + non_movies2 \n"
   ]
  },
  {
   "cell_type": "code",
   "execution_count": null,
   "id": "ad6566a1",
   "metadata": {},
   "outputs": [],
   "source": [
    "#there's a possibility that the word season is in a movie \n",
    "#using the logic that movies have short titles\n",
    "\n",
    "maybe= []\n",
    "for title3 in comb_nonmov:\n",
    "    split_title3 = title3.split(' ')\n",
    "    if len(split_title3) < 5:\n",
    "        maybe.append(title3)\n",
    "print(maybe)     \n",
    "\n",
    "#modifying our non-movie list to remove the movie \n",
    "for item in maybe:\n",
    "    if item in comb_nonmov:\n",
    "        comb_nonmov.remove(item)\n",
    "        \n",
    "#check if this worked by using \n",
    "#print(len(comb_nonmov)) "
   ]
  },
  {
   "cell_type": "code",
   "execution_count": null,
   "id": "834fdeae",
   "metadata": {},
   "outputs": [],
   "source": [
    "#we can subtract the non-movies from our viewing list \n",
    "#print(len(data2))\n",
    "# Subtract elements from the DataFrame column\n",
    "movies = data2[~data2['Title'].isin(comb_nonmov)]\n",
    "\n",
    "#print(len(movies))\n",
    "#write the movies only file\n",
    "#movies.to_csv('data/AmbyViewingMoviesOnly.csv', index = False)"
   ]
  }
 ],
 "metadata": {
  "kernelspec": {
   "display_name": "Python 3 (ipykernel)",
   "language": "python",
   "name": "python3"
  },
  "language_info": {
   "codemirror_mode": {
    "name": "ipython",
    "version": 3
   },
   "file_extension": ".py",
   "mimetype": "text/x-python",
   "name": "python",
   "nbconvert_exporter": "python",
   "pygments_lexer": "ipython3",
   "version": "3.10.9"
  }
 },
 "nbformat": 4,
 "nbformat_minor": 5
}
